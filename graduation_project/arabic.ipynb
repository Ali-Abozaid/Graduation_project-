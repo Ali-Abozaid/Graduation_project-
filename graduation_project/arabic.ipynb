{
 "cells": [
  {
   "cell_type": "code",
   "execution_count": 7,
   "id": "c4ae581c",
   "metadata": {},
   "outputs": [],
   "source": [
    "import numpy as np\n",
    "from PIL import ImageFont, ImageDraw, Image\n",
    "import cv2\n",
    "\n",
    "\n",
    "import arabic_reshaper\n",
    "from bidi.algorithm import get_display\n",
    "## Make canvas and set the color\n",
    "img = np.zeros((200,400,3),np.uint8)\n",
    "\n",
    "b,g,r,a = 0,255,0,0\n",
    "\n",
    "\n",
    "## Use simsum.ttc to write عربى.\n",
    "fontpath = \"alfont_com_arial-1.ttf\"\n",
    "font = ImageFont.truetype(fontpath, 32)\n",
    "img_pil = Image.fromarray(img)\n",
    "draw = ImageDraw.Draw(img_pil)\n",
    "labels = [\"أ\", \"علي ابوزيد علي\", \"Alef\"]\n",
    "text = labels[1]\n",
    "reshaped_text = arabic_reshaper.reshape(text)\n",
    "bidi_text = get_display(reshaped_text)\n",
    "draw.text((50, 80),bidi_text, font = font, fill = (b, g, r, a))\n",
    "img = np.array(img_pil)\n",
    "\n",
    "## Display \n",
    "cv2.imshow(\"res\", img);cv2.waitKey();cv2.destroyAllWindows()\n",
    "#cv2.imwrite(\"res.png\", img)"
   ]
  },
  {
   "cell_type": "code",
   "execution_count": null,
   "id": "a7107a01",
   "metadata": {},
   "outputs": [],
   "source": [
    " import tkinter as tk\n",
    "                e=labels[hand_sign_id]\n",
    "                if (hand_sign_id >=0 and hand_sign_id < 33):\n",
    "                    Word=Word+labels[hand_sign_id]\n",
    "                    #e=labels[hand_sign_id]\n",
    "                    #counts = Counter(Word[)\n",
    "                    #mostCommon = counts.most_common()\n",
    "                   # r1,most_frequently=zip(*mostCommon)\n",
    "                    \n",
    "                    \n",
    "                    if  e ==labels[hand_sign_id]:\n",
    "                        c=c+1\n",
    "                        if(c==20):\n",
    "                            arr+=arr.join(e)\n",
    "                            #arr=''.join(map(str, [v for i, v in enumerate(arr) if i == 0 or v != arr[i-2]]))\n",
    "                            c=0\n",
    "                    \n",
    "\n",
    "                    else:\n",
    "                            #arr=arr\n",
    "                        #arr = list(Word)\n",
    "                        arr+=arr.join(e)\n",
    "                        arr=''.join(map(str, [v for i, v in enumerate(arr) if i == 0 or v != arr[i-2]]))\n",
    "                            #arr2=arr.copy()\n",
    "                elif (hand_sign_id == 33):\n",
    "                    arr=arr[:-1]\n",
    "                    Word=arr \n",
    "                    cv.waitKey(700)\n",
    "                    \n",
    "                    \n",
    "                elif (hand_sign_id == 34):\n",
    "                    tts = gtts.gTTS(arr, lang=\"ar\")\n",
    "                    tts.save(\"h3.mp3\")\n",
    "                    playsound(\"h3.mp3\")\n",
    "                    os.remove('h3.mp3')\n",
    "                \n",
    "                print(arr)\n",
    "                print (Word)\n",
    "                \n",
    "                e=labels[hand_sign_id]\n",
    "                arr=arr\n",
    "                var.set(arr) \n",
    "                frame2.update_idletasks()\n",
    "                cv.waitKey(50)\n",
    "                \n"
   ]
  },
  {
   "cell_type": "code",
   "execution_count": 12,
   "id": "90dd6c9e",
   "metadata": {},
   "outputs": [
    {
     "name": "stdout",
     "output_type": "stream",
     "text": [
      "Voice: Microsoft David Desktop - English (United States)\n",
      "ID: HKEY_LOCAL_MACHINE\\SOFTWARE\\Microsoft\\Speech\\Voices\\Tokens\\TTS_MS_EN-US_DAVID_11.0\n",
      "Gender: None\n",
      "- Age: None\n",
      "\n",
      "\n",
      "\n",
      "\n",
      "Voice: Microsoft Zira Desktop - English (United States)\n",
      "ID: HKEY_LOCAL_MACHINE\\SOFTWARE\\Microsoft\\Speech\\Voices\\Tokens\\TTS_MS_EN-US_ZIRA_11.0\n",
      "Gender: None\n",
      "- Age: None\n",
      "\n",
      "\n",
      "\n",
      "\n"
     ]
    }
   ],
   "source": [
    "import speech_recognition \n",
    "import pyttsx3 as tts\n",
    "\n",
    "engine =tts.init() \n",
    "voices= engine.getProperty( 'voices')\n",
    "\n",
    "for voice in voices:\n",
    "\n",
    "    print(\"Voice: %s\" % voice.name)\n",
    "    print(\"ID: %s\" % voice.id)\n",
    "\n",
    "   # print(\"Languages: %s\" % voice.Languages)\n",
    "\n",
    "    print(\"Gender: %s\" % voice. gender)\n",
    "\n",
    "    print(\"- Age: %s\" % voice. age)\n",
    "    print(\"\\n\")\n",
    "\n",
    "    print(\"\\n\")\n",
    "\n",
    "engine.setProperty('rate', 150) \n",
    "engine.setProperty('voice', voices [1].id)\n",
    "\n",
    "tts. speak(\"هاي\")\n"
   ]
  },
  {
   "cell_type": "code",
   "execution_count": 8,
   "id": "6143f410",
   "metadata": {},
   "outputs": [
    {
     "name": "stdout",
     "output_type": "stream",
     "text": [
      "Voice: Microsoft David Desktop - English (United States)\n",
      "Voice: Microsoft Zira Desktop - English (United States)\n"
     ]
    }
   ],
   "source": [
    "import pyttsx3\n",
    "\n",
    "engine = pyttsx3.init()\n",
    "voices = engine.getProperty('voices')\n",
    "for voice in voices:\n",
    "    print(f\"Voice: {voice.name}\")\n",
    "    \n",
    "engine.setProperty(\"voice\", voices[1].id) # 2 is the 3rd item index\n",
    "engine.say(\"'Hello world' in Hindi: नमस्ते दुनिया\")\n",
    "\n",
    "engine.runAndWait()"
   ]
  },
  {
   "cell_type": "code",
   "execution_count": 6,
   "id": "04dcfd28",
   "metadata": {},
   "outputs": [],
   "source": [
    "# Import the required module for text \n",
    "# to speech conversion\n",
    "import pyttsx3\n",
    " \n",
    "# init function to get an engine instance for the speech synthesis\n",
    "engine = pyttsx3.init()\n",
    " \n",
    "# say method on the engine that passing input text to be spoken\n",
    "engine.say('زهراء')\n",
    " \n",
    "# run and wait method, it processes the voice commands.\n",
    "engine.runAndWait()"
   ]
  },
  {
   "cell_type": "code",
   "execution_count": 8,
   "id": "e6bd8010",
   "metadata": {},
   "outputs": [],
   "source": [
    "engine = pyttsx3.init()\n",
    "voices = engine.getProperty('voices')\n",
    "for voice in voices:\n",
    "   engine.setProperty('voice', voice.id)\n",
    "   if \"zh\" in voice.id:\n",
    "       print(voice.id)\n",
    "    \n",
    "engine.setProperty(\"voice\", voices[1].id) # 2 is the 3rd item index\n",
    "engine.say(\"زهراء\")\n",
    "\n",
    "engine.runAndWait()\n"
   ]
  },
  {
   "cell_type": "code",
   "execution_count": 5,
   "id": "1c01869e",
   "metadata": {},
   "outputs": [],
   "source": [
    "import speech_recognition \n",
    "import pyttsx3\n",
    "engine = pyttsx3.init()\n",
    "\n",
    "ar_voice_id = \" HKEY_LOCAL_MACHINE\\SOFTWARE\\Microsoft\\Speech\\Voices\\Tokens\\MSTTS_V110_arEG_Hoda\"\n",
    "\n",
    "\n",
    "engine.setProperty('voice', ar_voice_id)\n",
    "engine.say('هاي')\n",
    "#engine.speak('هاي')\n",
    "engine.runAndWait()"
   ]
  },
  {
   "cell_type": "code",
   "execution_count": 10,
   "id": "9a166340",
   "metadata": {},
   "outputs": [],
   "source": [
    "import pyttsx3\n",
    "engine = pyttsx3.init()\n",
    "\n",
    "# Voice IDs pulled from engine.getProperty('voices')\n",
    "# These will be system specific\n",
    "en_voice_id = \"HKEY_LOCAL_MACHINE\\SOFTWARE\\Microsoft\\Speech\\Voices\\Tokens\\TTS_MS_EN-US_ZIRA_11.0\"\n",
    "ru_voice_id = \"HKEY_LOCAL_MACHINE\\SOFTWARE\\Microsoft\\Speech\\Voices\\Tokens\\TTS_MS_RU-RU_IRINA_11.0\"\n",
    "\n",
    "\n",
    "\n",
    "# Use female Russian voice\n",
    "engine.setProperty('voice', ru_voice_id)\n",
    "engine.say('Привет. где хакер')\n",
    "\n",
    "engine.runAndWait()"
   ]
  },
  {
   "cell_type": "code",
   "execution_count": 4,
   "id": "221e1016",
   "metadata": {},
   "outputs": [
    {
     "name": "stdout",
     "output_type": "stream",
     "text": [
      "Voice:\n",
      " - ID: HKEY_LOCAL_MACHINE\\SOFTWARE\\Microsoft\\Speech\\Voices\\Tokens\\TTS_MS_EN-US_DAVID_11.0\n",
      " - Name: Microsoft David Desktop - English (United States)\n",
      " - Languages: []\n",
      " - Gender: None\n",
      " - Age: None\n",
      "Voice:\n",
      " - ID: HKEY_LOCAL_MACHINE\\SOFTWARE\\Microsoft\\Speech\\Voices\\Tokens\\MSTTS_V110_arEG_Hoda\n",
      " - Name: Microsoft Hoda - Arabic (Egypt)\n",
      " - Languages: []\n",
      " - Gender: None\n",
      " - Age: None\n",
      "Voice:\n",
      " - ID: HKEY_LOCAL_MACHINE\\SOFTWARE\\Microsoft\\Speech\\Voices\\Tokens\\TTS_MS_EN-US_ZIRA_11.0\n",
      " - Name: Microsoft Zira Desktop - English (United States)\n",
      " - Languages: []\n",
      " - Gender: None\n",
      " - Age: None\n"
     ]
    }
   ],
   "source": [
    "# Print all available voices\n",
    "import pyttsx3\n",
    "engine = pyttsx3.init()\n",
    "\n",
    "voices = engine.getProperty('voices')\n",
    "for voice in voices:\n",
    "    print(\"Voice:\")\n",
    "    print(\" - ID: %s\" % voice.id)\n",
    "    print(\" - Name: %s\" % voice.name)\n",
    "    print(\" - Languages: %s\" % voice.languages)\n",
    "    print(\" - Gender: %s\" % voice.gender)\n",
    "    print(\" - Age: %s\" % voice.age)"
   ]
  },
  {
   "cell_type": "code",
   "execution_count": 11,
   "id": "e842a454",
   "metadata": {},
   "outputs": [],
   "source": [
    "import pyttsx3\n",
    "engine = pyttsx3.init()\n",
    "engine.setProperty('voice',\"HKEY_LOCAL_MACHINE\\SOFTWARE\\Microsoft\\Speech\\Voices\\Tokens\\MSTTS_V110_arEG_Hoda\")\n",
    "engine.say(text=\"السلام عليكم \")\n",
    "engine.runAndWait()\n",
    "# to save to a file\n",
    "# engine.save_to_file(text=\"Merhaba dünya\", filename=\"file.mp3\")"
   ]
  },
  {
   "cell_type": "code",
   "execution_count": null,
   "id": "b80552be",
   "metadata": {},
   "outputs": [],
   "source": []
  }
 ],
 "metadata": {
  "kernelspec": {
   "display_name": "Python 3 (ipykernel)",
   "language": "python",
   "name": "python3"
  },
  "language_info": {
   "codemirror_mode": {
    "name": "ipython",
    "version": 3
   },
   "file_extension": ".py",
   "mimetype": "text/x-python",
   "name": "python",
   "nbconvert_exporter": "python",
   "pygments_lexer": "ipython3",
   "version": "3.9.7"
  }
 },
 "nbformat": 4,
 "nbformat_minor": 5
}
