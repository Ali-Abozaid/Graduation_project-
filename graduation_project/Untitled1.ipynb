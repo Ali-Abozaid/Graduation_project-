{
 "cells": [
  {
   "cell_type": "code",
   "execution_count": null,
   "id": "92e5fc9a",
   "metadata": {},
   "outputs": [],
   "source": [
    "from PyQt5 import QtWidgets, uic\n",
    "from PyQt5.QtWidgets import QMessageBox\n",
    "from PyQt5.QtCore import QUrl\n",
    "from PyQt5.QtGui import QImage\n",
    "from PyQt5.QtGui import QPixmap\n",
    "from PyQt5 import QtCore\t\t\t\t\t\t#importing pyqt5 libraries\n",
    "from scipy.ndimage import imread\t\t\t\t#will help in reading the images\n",
    "from PyQt5.QtCore import QTimer,Qt \n",
    "from PyQt5 import QtGui\t\t\t\t\t\t\t\n",
    "from tkinter import filedialog\t\t\t\t\t#for file export module\n",
    "from tkinter import * \n",
    "import tkinter as tk\n",
    "from matplotlib import pyplot as plt \t\t\t#for gesture viewer\n",
    "from matplotlib.widgets import Button\n",
    "import sys\t\t\t\t\t\t\t\t\t\t#for pyqt\n",
    "import os\t\t\t\t\t\t\t\t\t\t#for removal of files\n",
    "import cv2\t\t\t\t\t\t\t\t\t\t#for the camera operations\n",
    "import numpy as np \t\t\t\t\t\t\t\t#proceesing on images\n",
    "import qimage2ndarray \t\t\t\t\t\t\t#convers images into matrix\n",
    "import win32api\n",
    "import winGuiAuto\t\t\t\n",
    "import win32gui\n",
    "import win32con\t\t\t\t\t\t\t\t\t#for removing title cv2 window and always on top\n",
    "import keyboard\t\t\t\t\t\t\t\t\t#for pressing keys\n",
    "import pyttsx3\t\t\t\t\t\t\t\t\t#for tts assistance\n",
    "import shutil\t\t\t\t\t\t\t\t\t#for removal of directories\n",
    "index = 0\t\t\t\t\t\t\t\t\t\t#index used for gesture viewer\n",
    "engine = pyttsx3.init()\t\t\t\t\t\t\t#engine initialization for audio tts assistance\n",
    "\n"
   ]
  },
  {
   "cell_type": "code",
   "execution_count": null,
   "id": "0072157a",
   "metadata": {},
   "outputs": [],
   "source": [
    "from PyQt5 import QtWidgets, uic\n",
    "from PyQt5.QtWidgets import QMessageBox\n",
    "from PyQt5.QtCore import QUrl\n",
    "from PyQt5.QtGui import QImage\n",
    "from PyQt5.QtGui import QPixmap\n",
    "from PyQt5 import QtCore\t\t\t\t\t\t#importing pyqt5 libraries\n",
    "from scipy.ndimage import imread\t\t\t\t#will help in reading the images\n",
    "from PyQt5.QtCore import QTimer,Qt \n",
    "from PyQt5 import QtGui\t\t\t\t\t\t\t\n",
    "from tkinter import filedialog\t\t\t\t\t#for file export module\n",
    "from tkinter import * \n",
    "import tkinter as tk\n",
    "from matplotlib import pyplot as plt \t\t\t#for gesture viewer\n",
    "from matplotlib.widgets import Button\n",
    "import sys\t\t\t\t\t\t\t\t\t\t#for pyqt\n",
    "import os\t\t\t\t\t\t\t\t\t\t#for removal of files\n",
    "import cv2\t\t\t\t\t\t\t\t\t\t#for the camera operations\n",
    "import numpy as np \t\t\t\t\t\t\t\t#proceesing on images\n",
    "import qimage2ndarray \t\t\t\t\t\t\t#convers images into matrix\n",
    "import win32api\n",
    "import winGuiAuto\t\t\t\n",
    "import win32gui\n",
    "import win32con\t\t\t\t\t\t\t\t\t#for removing title cv2 window and always on top\n",
    "import keyboard\t\t\t\t\t\t\t\t\t#for pressing keys\n",
    "import pyttsx3\t\t\t\t\t\t\t\t\t#for tts assistance\n",
    "import shutil\t\t\t\t\t\t\t\t\t#for removal of directories\n",
    "index = 0\t\t\t\t\t\t\t\t\t\t#index used for gesture viewer"
   ]
  },
  {
   "cell_type": "code",
   "execution_count": null,
   "id": "feb44bb2",
   "metadata": {},
   "outputs": [],
   "source": []
  }
 ],
 "metadata": {
  "kernelspec": {
   "display_name": "Python 3 (ipykernel)",
   "language": "python",
   "name": "python3"
  }
 },
 "nbformat": 4,
 "nbformat_minor": 5
}
