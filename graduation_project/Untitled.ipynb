{
 "cells": [
  {
   "cell_type": "code",
   "execution_count": 2,
   "id": "26a16329",
   "metadata": {},
   "outputs": [
    {
     "name": "stdout",
     "output_type": "stream",
     "text": [
      "[[1.11887522e-11 4.80689097e-20 0.00000000e+00 0.00000000e+00\n",
      "  5.03486960e-35 9.77785497e-09 0.00000000e+00 0.00000000e+00\n",
      "  0.00000000e+00 1.51827918e-34 4.70197740e-38 1.96951875e-27\n",
      "  1.42419602e-37 2.35098870e-38 0.00000000e+00 3.47276663e-33\n",
      "  0.00000000e+00 7.51488028e-35 0.00000000e+00 7.41944057e-32\n",
      "  0.00000000e+00 2.51153175e-26 1.20554821e-32 1.95445164e-36\n",
      "  5.32950367e-33 0.00000000e+00 0.00000000e+00 4.10691807e-32\n",
      "  2.97957461e-32 1.62176364e-35 1.17797215e-32 8.89494222e-36\n",
      "  2.04178167e-12 1.00000000e+00 5.17446460e-34]]\n"
     ]
    }
   ],
   "source": [
    "import numpy as np\n",
    "import tensorflow as tf\n",
    "\n",
    "# Load TFLite model and allocate tensors.\n",
    "interpreter = tf.lite.Interpreter(model_path=r\"C:\\Users\\DELL\\Desktop\\GProject\\GProject\\model\\keypoint_classifier\\keypoint_classifier.tflite\")\n",
    "interpreter.allocate_tensors()\n",
    "\n",
    "# Get input and output tensors.\n",
    "input_details = interpreter.get_input_details()\n",
    "output_details = interpreter.get_output_details()\n",
    "\n",
    "# Test model on random input data.\n",
    "input_shape = input_details[0]['shape']\n",
    "input_data = np.array(np.random.random_sample(input_shape), dtype=np.float32)\n",
    "interpreter.set_tensor(input_details[0]['index'], input_data)\n",
    "\n",
    "interpreter.invoke()\n",
    "output_data = interpreter.get_tensor(output_details[0]['index'])\n",
    "print(output_data)"
   ]
  },
  {
   "cell_type": "code",
   "execution_count": null,
   "id": "159e81e7",
   "metadata": {},
   "outputs": [],
   "source": []
  }
 ],
 "metadata": {
  "kernelspec": {
   "display_name": "Python 3 (ipykernel)",
   "language": "python",
   "name": "python3"
  },
  "language_info": {
   "codemirror_mode": {
    "name": "ipython",
    "version": 3
   },
   "file_extension": ".py",
   "mimetype": "text/x-python",
   "name": "python",
   "nbconvert_exporter": "python",
   "pygments_lexer": "ipython3",
   "version": "3.9.7"
  }
 },
 "nbformat": 4,
 "nbformat_minor": 5
}
