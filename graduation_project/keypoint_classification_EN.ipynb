{
 "cells": [
  {
   "cell_type": "code",
   "execution_count": 1,
   "metadata": {
    "id": "igMyGnjE9hEp"
   },
   "outputs": [],
   "source": [
    "import csv\n",
    "\n",
    "import numpy as np\n",
    "import tensorflow as tf\n",
    "from sklearn.model_selection import train_test_split\n",
    "\n",
    "RANDOM_SEED = 42"
   ]
  },
  {
   "cell_type": "markdown",
   "metadata": {
    "id": "t2HDvhIu9hEr"
   },
   "source": [
    "# Specify each path"
   ]
  },
  {
   "cell_type": "code",
   "execution_count": 2,
   "metadata": {
    "id": "9NvZP2Zn9hEy"
   },
   "outputs": [],
   "source": [
    "dataset = 'model/keypoint_classifier/keypoint.csv'\n",
    "model_save_path = 'model/keypoint_classifier/keypoint_classifier.hdf5'\n",
    "tflite_save_path = 'model/keypoint_classifier/keypoint_classifier.tflite'"
   ]
  },
  {
   "cell_type": "markdown",
   "metadata": {
    "id": "s5oMH7x19hEz"
   },
   "source": [
    "# Set number of classes"
   ]
  },
  {
   "cell_type": "code",
   "execution_count": 3,
   "metadata": {
    "id": "du4kodXL9hEz"
   },
   "outputs": [],
   "source": [
    "NUM_CLASSES = 35"
   ]
  },
  {
   "cell_type": "markdown",
   "metadata": {
    "id": "XjnL0uso9hEz"
   },
   "source": [
    "# Dataset reading"
   ]
  },
  {
   "cell_type": "code",
   "execution_count": 4,
   "metadata": {
    "id": "QT5ZqtEz9hE0"
   },
   "outputs": [
    {
     "data": {
      "text/plain": [
       "(42,)"
      ]
     },
     "execution_count": 4,
     "metadata": {},
     "output_type": "execute_result"
    }
   ],
   "source": [
    "X_dataset = np.loadtxt(dataset, delimiter=',', dtype='float32', usecols=list(range(1, (21 * 2) + 1)))\n",
    "X_dataset[0].shape"
   ]
  },
  {
   "cell_type": "code",
   "execution_count": 5,
   "metadata": {
    "id": "QmoKFsp49hE0"
   },
   "outputs": [],
   "source": [
    "y_dataset = np.loadtxt(dataset, delimiter=',', dtype='int32', usecols=(0))\n"
   ]
  },
  {
   "cell_type": "code",
   "execution_count": 6,
   "metadata": {
    "id": "xQU7JTZ_9hE0"
   },
   "outputs": [],
   "source": [
    "X_train, X_test, y_train, y_test = train_test_split(X_dataset, y_dataset, train_size=0.75, random_state=RANDOM_SEED)"
   ]
  },
  {
   "cell_type": "markdown",
   "metadata": {
    "id": "mxK_lETT9hE0"
   },
   "source": [
    "# Model building"
   ]
  },
  {
   "cell_type": "code",
   "execution_count": 7,
   "metadata": {
    "id": "vHBmUf1t9hE1"
   },
   "outputs": [],
   "source": [
    "model = tf.keras.models.Sequential([\n",
    "    tf.keras.layers.Input((21 * 2, )),\n",
    "    #tf.keras.layers.Dropout(0.2),\n",
    "    tf.keras.layers.Dense(128, activation='relu'),\n",
    "    tf.keras.layers.Dropout(0.4),\n",
    "    tf.keras.layers.Dense(64, activation='relu'),\n",
    "    tf.keras.layers.Dense(NUM_CLASSES, activation='softmax')\n",
    "])"
   ]
  },
  {
   "cell_type": "code",
   "execution_count": 8,
   "metadata": {
    "colab": {
     "base_uri": "https://localhost:8080/"
    },
    "id": "ypqky9tc9hE1",
    "outputId": "5db082bb-30e3-4110-bf63-a1ee777ecd46"
   },
   "outputs": [
    {
     "name": "stdout",
     "output_type": "stream",
     "text": [
      "Model: \"sequential\"\n",
      "_________________________________________________________________\n",
      " Layer (type)                Output Shape              Param #   \n",
      "=================================================================\n",
      " dense (Dense)               (None, 128)               5504      \n",
      "                                                                 \n",
      " dropout (Dropout)           (None, 128)               0         \n",
      "                                                                 \n",
      " dense_1 (Dense)             (None, 64)                8256      \n",
      "                                                                 \n",
      " dense_2 (Dense)             (None, 35)                2275      \n",
      "                                                                 \n",
      "=================================================================\n",
      "Total params: 16,035\n",
      "Trainable params: 16,035\n",
      "Non-trainable params: 0\n",
      "_________________________________________________________________\n"
     ]
    }
   ],
   "source": [
    "model.summary()  # tf.keras.utils.plot_model(model, show_shapes=True)"
   ]
  },
  {
   "cell_type": "code",
   "execution_count": 9,
   "metadata": {
    "id": "MbMjOflQ9hE1"
   },
   "outputs": [],
   "source": [
    "# Model checkpoint callback\n",
    "cp_callback = tf.keras.callbacks.ModelCheckpoint(\n",
    "    model_save_path, verbose=1, save_weights_only=False)\n",
    "# Callback for early stopping\n",
    "es_callback = tf.keras.callbacks.EarlyStopping(patience=20, verbose=1)"
   ]
  },
  {
   "cell_type": "code",
   "execution_count": 10,
   "metadata": {
    "id": "c3Dac0M_9hE2"
   },
   "outputs": [],
   "source": [
    "# Model compilation\n",
    "model.compile(\n",
    "    optimizer='adam',\n",
    "    loss='sparse_categorical_crossentropy',\n",
    "    metrics=['accuracy']\n",
    ")"
   ]
  },
  {
   "cell_type": "markdown",
   "metadata": {
    "id": "7XI0j1Iu9hE2"
   },
   "source": [
    "# Model training"
   ]
  },
  {
   "cell_type": "code",
   "execution_count": 11,
   "metadata": {
    "colab": {
     "base_uri": "https://localhost:8080/"
    },
    "id": "WirBl-JE9hE3",
    "outputId": "71b30ca2-8294-4d9d-8aa2-800d90d399de",
    "scrolled": true
   },
   "outputs": [
    {
     "name": "stdout",
     "output_type": "stream",
     "text": [
      "Epoch 1/50\n",
      "46/66 [===================>..........] - ETA: 0s - loss: 3.3898 - accuracy: 0.0915   \n",
      "Epoch 1: saving model to model/keypoint_classifier\\keypoint_classifier.hdf5\n",
      "66/66 [==============================] - 1s 7ms/step - loss: 3.2916 - accuracy: 0.1147 - val_loss: 2.8233 - val_accuracy: 0.2768\n",
      "Epoch 2/50\n",
      "53/66 [=======================>......] - ETA: 0s - loss: 2.4947 - accuracy: 0.3057\n",
      "Epoch 2: saving model to model/keypoint_classifier\\keypoint_classifier.hdf5\n",
      "66/66 [==============================] - 0s 4ms/step - loss: 2.4149 - accuracy: 0.3203 - val_loss: 1.8146 - val_accuracy: 0.5696\n",
      "Epoch 3/50\n",
      "52/66 [======================>.......] - ETA: 0s - loss: 1.7278 - accuracy: 0.4706\n",
      "Epoch 3: saving model to model/keypoint_classifier\\keypoint_classifier.hdf5\n",
      "66/66 [==============================] - 0s 4ms/step - loss: 1.6676 - accuracy: 0.4867 - val_loss: 1.2268 - val_accuracy: 0.7018\n",
      "Epoch 4/50\n",
      "49/66 [=====================>........] - ETA: 0s - loss: 1.2844 - accuracy: 0.6081\n",
      "Epoch 4: saving model to model/keypoint_classifier\\keypoint_classifier.hdf5\n",
      "66/66 [==============================] - 0s 4ms/step - loss: 1.2485 - accuracy: 0.6177 - val_loss: 0.9057 - val_accuracy: 0.8049\n",
      "Epoch 5/50\n",
      "52/66 [======================>.......] - ETA: 0s - loss: 1.0382 - accuracy: 0.6693\n",
      "Epoch 5: saving model to model/keypoint_classifier\\keypoint_classifier.hdf5\n",
      "66/66 [==============================] - 0s 4ms/step - loss: 1.0139 - accuracy: 0.6803 - val_loss: 0.7167 - val_accuracy: 0.8897\n",
      "Epoch 6/50\n",
      "50/66 [=====================>........] - ETA: 0s - loss: 0.8479 - accuracy: 0.7372\n",
      "Epoch 6: saving model to model/keypoint_classifier\\keypoint_classifier.hdf5\n",
      "66/66 [==============================] - 0s 3ms/step - loss: 0.8430 - accuracy: 0.7370 - val_loss: 0.5777 - val_accuracy: 0.8969\n",
      "Epoch 7/50\n",
      "51/66 [======================>.......] - ETA: 0s - loss: 0.7440 - accuracy: 0.7739\n",
      "Epoch 7: saving model to model/keypoint_classifier\\keypoint_classifier.hdf5\n",
      "66/66 [==============================] - 0s 3ms/step - loss: 0.7330 - accuracy: 0.7778 - val_loss: 0.4924 - val_accuracy: 0.9212\n",
      "Epoch 8/50\n",
      "51/66 [======================>.......] - ETA: 0s - loss: 0.6380 - accuracy: 0.8045\n",
      "Epoch 8: saving model to model/keypoint_classifier\\keypoint_classifier.hdf5\n",
      "66/66 [==============================] - 0s 3ms/step - loss: 0.6318 - accuracy: 0.8062 - val_loss: 0.4086 - val_accuracy: 0.9345\n",
      "Epoch 9/50\n",
      "45/66 [===================>..........] - ETA: 0s - loss: 0.5678 - accuracy: 0.8292\n",
      "Epoch 9: saving model to model/keypoint_classifier\\keypoint_classifier.hdf5\n",
      "66/66 [==============================] - 0s 4ms/step - loss: 0.5608 - accuracy: 0.8320 - val_loss: 0.3492 - val_accuracy: 0.9384\n",
      "Epoch 10/50\n",
      "49/66 [=====================>........] - ETA: 0s - loss: 0.5001 - accuracy: 0.8541\n",
      "Epoch 10: saving model to model/keypoint_classifier\\keypoint_classifier.hdf5\n",
      "66/66 [==============================] - 0s 3ms/step - loss: 0.4966 - accuracy: 0.8539 - val_loss: 0.3018 - val_accuracy: 0.9470\n",
      "Epoch 11/50\n",
      "48/66 [====================>.........] - ETA: 0s - loss: 0.4527 - accuracy: 0.8563\n",
      "Epoch 11: saving model to model/keypoint_classifier\\keypoint_classifier.hdf5\n",
      "66/66 [==============================] - 0s 4ms/step - loss: 0.4483 - accuracy: 0.8602 - val_loss: 0.2731 - val_accuracy: 0.9445\n",
      "Epoch 12/50\n",
      "49/66 [=====================>........] - ETA: 0s - loss: 0.4106 - accuracy: 0.8779\n",
      "Epoch 12: saving model to model/keypoint_classifier\\keypoint_classifier.hdf5\n",
      "66/66 [==============================] - 0s 4ms/step - loss: 0.4132 - accuracy: 0.8768 - val_loss: 0.2437 - val_accuracy: 0.9481\n",
      "Epoch 13/50\n",
      "48/66 [====================>.........] - ETA: 0s - loss: 0.3777 - accuracy: 0.8853\n",
      "Epoch 13: saving model to model/keypoint_classifier\\keypoint_classifier.hdf5\n",
      "66/66 [==============================] - 0s 4ms/step - loss: 0.3684 - accuracy: 0.8902 - val_loss: 0.2181 - val_accuracy: 0.9542\n",
      "Epoch 14/50\n",
      "48/66 [====================>.........] - ETA: 0s - loss: 0.3482 - accuracy: 0.8997\n",
      "Epoch 14: saving model to model/keypoint_classifier\\keypoint_classifier.hdf5\n",
      "66/66 [==============================] - 0s 4ms/step - loss: 0.3458 - accuracy: 0.8977 - val_loss: 0.2002 - val_accuracy: 0.9567\n",
      "Epoch 15/50\n",
      "51/66 [======================>.......] - ETA: 0s - loss: 0.3243 - accuracy: 0.9012\n",
      "Epoch 15: saving model to model/keypoint_classifier\\keypoint_classifier.hdf5\n",
      "66/66 [==============================] - 0s 3ms/step - loss: 0.3220 - accuracy: 0.9020 - val_loss: 0.1743 - val_accuracy: 0.9635\n",
      "Epoch 16/50\n",
      "50/66 [=====================>........] - ETA: 0s - loss: 0.3046 - accuracy: 0.9112\n",
      "Epoch 16: saving model to model/keypoint_classifier\\keypoint_classifier.hdf5\n",
      "66/66 [==============================] - 0s 3ms/step - loss: 0.3000 - accuracy: 0.9140 - val_loss: 0.1651 - val_accuracy: 0.9603\n",
      "Epoch 17/50\n",
      "51/66 [======================>.......] - ETA: 0s - loss: 0.2774 - accuracy: 0.9144\n",
      "Epoch 17: saving model to model/keypoint_classifier\\keypoint_classifier.hdf5\n",
      "66/66 [==============================] - 0s 3ms/step - loss: 0.2777 - accuracy: 0.9149 - val_loss: 0.1510 - val_accuracy: 0.9610\n",
      "Epoch 18/50\n",
      "51/66 [======================>.......] - ETA: 0s - loss: 0.2608 - accuracy: 0.9231\n",
      "Epoch 18: saving model to model/keypoint_classifier\\keypoint_classifier.hdf5\n",
      "66/66 [==============================] - 0s 3ms/step - loss: 0.2615 - accuracy: 0.9216 - val_loss: 0.1459 - val_accuracy: 0.9610\n",
      "Epoch 19/50\n",
      "49/66 [=====================>........] - ETA: 0s - loss: 0.2554 - accuracy: 0.9195\n",
      "Epoch 19: saving model to model/keypoint_classifier\\keypoint_classifier.hdf5\n",
      "66/66 [==============================] - 0s 3ms/step - loss: 0.2498 - accuracy: 0.9231 - val_loss: 0.1329 - val_accuracy: 0.9667\n",
      "Epoch 20/50\n",
      "51/66 [======================>.......] - ETA: 0s - loss: 0.2408 - accuracy: 0.9274\n",
      "Epoch 20: saving model to model/keypoint_classifier\\keypoint_classifier.hdf5\n",
      "66/66 [==============================] - 0s 3ms/step - loss: 0.2377 - accuracy: 0.9255 - val_loss: 0.1305 - val_accuracy: 0.9631\n",
      "Epoch 21/50\n",
      "50/66 [=====================>........] - ETA: 0s - loss: 0.2232 - accuracy: 0.9303\n",
      "Epoch 21: saving model to model/keypoint_classifier\\keypoint_classifier.hdf5\n",
      "66/66 [==============================] - 0s 3ms/step - loss: 0.2229 - accuracy: 0.9299 - val_loss: 0.1166 - val_accuracy: 0.9699\n",
      "Epoch 22/50\n",
      "49/66 [=====================>........] - ETA: 0s - loss: 0.2107 - accuracy: 0.9359\n",
      "Epoch 22: saving model to model/keypoint_classifier\\keypoint_classifier.hdf5\n",
      "66/66 [==============================] - 0s 3ms/step - loss: 0.2117 - accuracy: 0.9347 - val_loss: 0.1106 - val_accuracy: 0.9699\n",
      "Epoch 23/50\n",
      "51/66 [======================>.......] - ETA: 0s - loss: 0.1982 - accuracy: 0.9380\n",
      "Epoch 23: saving model to model/keypoint_classifier\\keypoint_classifier.hdf5\n",
      "66/66 [==============================] - 0s 3ms/step - loss: 0.2010 - accuracy: 0.9378 - val_loss: 0.1122 - val_accuracy: 0.9656\n",
      "Epoch 24/50\n",
      "51/66 [======================>.......] - ETA: 0s - loss: 0.1990 - accuracy: 0.9373\n",
      "Epoch 24: saving model to model/keypoint_classifier\\keypoint_classifier.hdf5\n",
      "66/66 [==============================] - 0s 3ms/step - loss: 0.1945 - accuracy: 0.9395 - val_loss: 0.1031 - val_accuracy: 0.9674\n",
      "Epoch 25/50\n",
      "51/66 [======================>.......] - ETA: 0s - loss: 0.1861 - accuracy: 0.9432\n",
      "Epoch 25: saving model to model/keypoint_classifier\\keypoint_classifier.hdf5\n",
      "66/66 [==============================] - 0s 3ms/step - loss: 0.1908 - accuracy: 0.9422 - val_loss: 0.1062 - val_accuracy: 0.9681\n",
      "Epoch 26/50\n",
      "51/66 [======================>.......] - ETA: 0s - loss: 0.1814 - accuracy: 0.9461\n",
      "Epoch 26: saving model to model/keypoint_classifier\\keypoint_classifier.hdf5\n",
      "66/66 [==============================] - 0s 3ms/step - loss: 0.1813 - accuracy: 0.9448 - val_loss: 0.0999 - val_accuracy: 0.9663\n",
      "Epoch 27/50\n",
      "51/66 [======================>.......] - ETA: 0s - loss: 0.1716 - accuracy: 0.9449\n",
      "Epoch 27: saving model to model/keypoint_classifier\\keypoint_classifier.hdf5\n",
      "66/66 [==============================] - 0s 3ms/step - loss: 0.1729 - accuracy: 0.9444 - val_loss: 0.0963 - val_accuracy: 0.9685\n",
      "Epoch 28/50\n"
     ]
    },
    {
     "name": "stdout",
     "output_type": "stream",
     "text": [
      "51/66 [======================>.......] - ETA: 0s - loss: 0.1698 - accuracy: 0.9452\n",
      "Epoch 28: saving model to model/keypoint_classifier\\keypoint_classifier.hdf5\n",
      "66/66 [==============================] - 0s 3ms/step - loss: 0.1703 - accuracy: 0.9447 - val_loss: 0.0966 - val_accuracy: 0.9674\n",
      "Epoch 29/50\n",
      "51/66 [======================>.......] - ETA: 0s - loss: 0.1573 - accuracy: 0.9519\n",
      "Epoch 29: saving model to model/keypoint_classifier\\keypoint_classifier.hdf5\n",
      "66/66 [==============================] - 0s 3ms/step - loss: 0.1581 - accuracy: 0.9521 - val_loss: 0.0899 - val_accuracy: 0.9692\n",
      "Epoch 30/50\n",
      "51/66 [======================>.......] - ETA: 0s - loss: 0.1633 - accuracy: 0.9475\n",
      "Epoch 30: saving model to model/keypoint_classifier\\keypoint_classifier.hdf5\n",
      "66/66 [==============================] - 0s 3ms/step - loss: 0.1654 - accuracy: 0.9472 - val_loss: 0.0912 - val_accuracy: 0.9660\n",
      "Epoch 31/50\n",
      "50/66 [=====================>........] - ETA: 0s - loss: 0.1565 - accuracy: 0.9480\n",
      "Epoch 31: saving model to model/keypoint_classifier\\keypoint_classifier.hdf5\n",
      "66/66 [==============================] - 0s 3ms/step - loss: 0.1542 - accuracy: 0.9489 - val_loss: 0.0890 - val_accuracy: 0.9699\n",
      "Epoch 32/50\n",
      "51/66 [======================>.......] - ETA: 0s - loss: 0.1510 - accuracy: 0.9491\n",
      "Epoch 32: saving model to model/keypoint_classifier\\keypoint_classifier.hdf5\n",
      "66/66 [==============================] - 0s 3ms/step - loss: 0.1516 - accuracy: 0.9493 - val_loss: 0.0813 - val_accuracy: 0.9721\n",
      "Epoch 33/50\n",
      "51/66 [======================>.......] - ETA: 0s - loss: 0.1454 - accuracy: 0.9516\n",
      "Epoch 33: saving model to model/keypoint_classifier\\keypoint_classifier.hdf5\n",
      "66/66 [==============================] - 0s 3ms/step - loss: 0.1466 - accuracy: 0.9520 - val_loss: 0.0756 - val_accuracy: 0.9757\n",
      "Epoch 34/50\n",
      "50/66 [=====================>........] - ETA: 0s - loss: 0.1441 - accuracy: 0.9528\n",
      "Epoch 34: saving model to model/keypoint_classifier\\keypoint_classifier.hdf5\n",
      "66/66 [==============================] - 0s 3ms/step - loss: 0.1407 - accuracy: 0.9550 - val_loss: 0.0761 - val_accuracy: 0.9739\n",
      "Epoch 35/50\n",
      "51/66 [======================>.......] - ETA: 0s - loss: 0.1346 - accuracy: 0.9573\n",
      "Epoch 35: saving model to model/keypoint_classifier\\keypoint_classifier.hdf5\n",
      "66/66 [==============================] - 0s 3ms/step - loss: 0.1348 - accuracy: 0.9569 - val_loss: 0.0753 - val_accuracy: 0.9739\n",
      "Epoch 36/50\n",
      "51/66 [======================>.......] - ETA: 0s - loss: 0.1281 - accuracy: 0.9593\n",
      "Epoch 36: saving model to model/keypoint_classifier\\keypoint_classifier.hdf5\n",
      "66/66 [==============================] - 0s 3ms/step - loss: 0.1329 - accuracy: 0.9565 - val_loss: 0.0698 - val_accuracy: 0.9757\n",
      "Epoch 37/50\n",
      "50/66 [=====================>........] - ETA: 0s - loss: 0.1262 - accuracy: 0.9589\n",
      "Epoch 37: saving model to model/keypoint_classifier\\keypoint_classifier.hdf5\n",
      "66/66 [==============================] - 0s 3ms/step - loss: 0.1257 - accuracy: 0.9580 - val_loss: 0.0738 - val_accuracy: 0.9774\n",
      "Epoch 38/50\n",
      "50/66 [=====================>........] - ETA: 0s - loss: 0.1314 - accuracy: 0.9573\n",
      "Epoch 38: saving model to model/keypoint_classifier\\keypoint_classifier.hdf5\n",
      "66/66 [==============================] - 0s 3ms/step - loss: 0.1276 - accuracy: 0.9592 - val_loss: 0.0691 - val_accuracy: 0.9753\n",
      "Epoch 39/50\n",
      "51/66 [======================>.......] - ETA: 0s - loss: 0.1231 - accuracy: 0.9586\n",
      "Epoch 39: saving model to model/keypoint_classifier\\keypoint_classifier.hdf5\n",
      "66/66 [==============================] - 0s 3ms/step - loss: 0.1213 - accuracy: 0.9592 - val_loss: 0.0662 - val_accuracy: 0.9753\n",
      "Epoch 40/50\n",
      "52/66 [======================>.......] - ETA: 0s - loss: 0.1238 - accuracy: 0.9587\n",
      "Epoch 40: saving model to model/keypoint_classifier\\keypoint_classifier.hdf5\n",
      "66/66 [==============================] - 0s 3ms/step - loss: 0.1222 - accuracy: 0.9605 - val_loss: 0.0707 - val_accuracy: 0.9724\n",
      "Epoch 41/50\n",
      "51/66 [======================>.......] - ETA: 0s - loss: 0.1176 - accuracy: 0.9606\n",
      "Epoch 41: saving model to model/keypoint_classifier\\keypoint_classifier.hdf5\n",
      "66/66 [==============================] - 0s 3ms/step - loss: 0.1159 - accuracy: 0.9616 - val_loss: 0.0638 - val_accuracy: 0.9767\n",
      "Epoch 42/50\n",
      "51/66 [======================>.......] - ETA: 0s - loss: 0.1143 - accuracy: 0.9617\n",
      "Epoch 42: saving model to model/keypoint_classifier\\keypoint_classifier.hdf5\n",
      "66/66 [==============================] - 0s 3ms/step - loss: 0.1126 - accuracy: 0.9622 - val_loss: 0.0636 - val_accuracy: 0.9810\n",
      "Epoch 43/50\n",
      "50/66 [=====================>........] - ETA: 0s - loss: 0.1214 - accuracy: 0.9598\n",
      "Epoch 43: saving model to model/keypoint_classifier\\keypoint_classifier.hdf5\n",
      "66/66 [==============================] - 0s 3ms/step - loss: 0.1201 - accuracy: 0.9605 - val_loss: 0.0631 - val_accuracy: 0.9796\n",
      "Epoch 44/50\n",
      "51/66 [======================>.......] - ETA: 0s - loss: 0.1129 - accuracy: 0.9629\n",
      "Epoch 44: saving model to model/keypoint_classifier\\keypoint_classifier.hdf5\n",
      "66/66 [==============================] - 0s 3ms/step - loss: 0.1107 - accuracy: 0.9637 - val_loss: 0.0650 - val_accuracy: 0.9774\n",
      "Epoch 45/50\n",
      "51/66 [======================>.......] - ETA: 0s - loss: 0.1070 - accuracy: 0.9638\n",
      "Epoch 45: saving model to model/keypoint_classifier\\keypoint_classifier.hdf5\n",
      "66/66 [==============================] - 0s 3ms/step - loss: 0.1057 - accuracy: 0.9637 - val_loss: 0.0676 - val_accuracy: 0.9746\n",
      "Epoch 46/50\n",
      "51/66 [======================>.......] - ETA: 0s - loss: 0.1025 - accuracy: 0.9666\n",
      "Epoch 46: saving model to model/keypoint_classifier\\keypoint_classifier.hdf5\n",
      "66/66 [==============================] - 0s 3ms/step - loss: 0.1014 - accuracy: 0.9679 - val_loss: 0.0609 - val_accuracy: 0.9771\n",
      "Epoch 47/50\n",
      "52/66 [======================>.......] - ETA: 0s - loss: 0.1079 - accuracy: 0.9641\n",
      "Epoch 47: saving model to model/keypoint_classifier\\keypoint_classifier.hdf5\n",
      "66/66 [==============================] - 0s 3ms/step - loss: 0.1114 - accuracy: 0.9628 - val_loss: 0.0603 - val_accuracy: 0.9731\n",
      "Epoch 48/50\n",
      "50/66 [=====================>........] - ETA: 0s - loss: 0.0976 - accuracy: 0.9669\n",
      "Epoch 48: saving model to model/keypoint_classifier\\keypoint_classifier.hdf5\n",
      "66/66 [==============================] - 0s 3ms/step - loss: 0.1045 - accuracy: 0.9653 - val_loss: 0.0600 - val_accuracy: 0.9792\n",
      "Epoch 49/50\n",
      "51/66 [======================>.......] - ETA: 0s - loss: 0.1040 - accuracy: 0.9626\n",
      "Epoch 49: saving model to model/keypoint_classifier\\keypoint_classifier.hdf5\n",
      "66/66 [==============================] - 0s 3ms/step - loss: 0.1017 - accuracy: 0.9641 - val_loss: 0.0618 - val_accuracy: 0.9796\n",
      "Epoch 50/50\n",
      "51/66 [======================>.......] - ETA: 0s - loss: 0.0983 - accuracy: 0.9684\n",
      "Epoch 50: saving model to model/keypoint_classifier\\keypoint_classifier.hdf5\n",
      "66/66 [==============================] - 0s 3ms/step - loss: 0.0995 - accuracy: 0.9674 - val_loss: 0.0586 - val_accuracy: 0.9796\n"
     ]
    },
    {
     "data": {
      "text/plain": [
       "<keras.callbacks.History at 0x2312dfaff40>"
      ]
     },
     "execution_count": 11,
     "metadata": {},
     "output_type": "execute_result"
    }
   ],
   "source": [
    "model.fit(\n",
    "    X_train,\n",
    "    y_train,\n",
    "    epochs=50,\n",
    "    batch_size=128,\n",
    "    validation_data=(X_test, y_test),\n",
    "    callbacks=[cp_callback, es_callback]\n",
    ")"
   ]
  },
  {
   "cell_type": "code",
   "execution_count": 12,
   "metadata": {
    "colab": {
     "base_uri": "https://localhost:8080/"
    },
    "id": "pxvb2Y299hE3",
    "outputId": "59eb3185-2e37-4b9e-bc9d-ab1b8ac29b7f"
   },
   "outputs": [
    {
     "name": "stdout",
     "output_type": "stream",
     "text": [
      "22/22 [==============================] - 0s 2ms/step - loss: 0.0586 - accuracy: 0.9796\n"
     ]
    }
   ],
   "source": [
    "# Model evaluation\n",
    "val_loss, val_acc = model.evaluate(X_test, y_test, batch_size=128)"
   ]
  },
  {
   "cell_type": "code",
   "execution_count": 13,
   "metadata": {
    "id": "RBkmDeUW9hE4"
   },
   "outputs": [],
   "source": [
    "# Loading the saved model\n",
    "model = tf.keras.models.load_model(model_save_path)"
   ]
  },
  {
   "cell_type": "code",
   "execution_count": 14,
   "metadata": {
    "colab": {
     "base_uri": "https://localhost:8080/"
    },
    "id": "tFz9Tb0I9hE4",
    "outputId": "1c3b3528-54ae-4ee2-ab04-77429211cbef"
   },
   "outputs": [
    {
     "name": "stdout",
     "output_type": "stream",
     "text": [
      "[1.7363618e-27 1.4594820e-28 6.3559996e-20 4.5021135e-12 5.4985823e-05\n",
      " 4.2752467e-06 8.3734303e-14 3.2134644e-14 2.8520791e-04 1.9193641e-17\n",
      " 1.5072348e-11 4.3933633e-06 9.9328423e-01 3.1423472e-19 4.2724362e-09\n",
      " 2.7169079e-12 1.9215131e-22 2.2876556e-09 2.9131309e-13 1.8765516e-13\n",
      " 1.5598245e-10 5.4303059e-12 1.1687131e-11 3.7103899e-14 3.4594543e-21\n",
      " 9.2485681e-07 1.0509520e-07 1.0842701e-17 1.3793399e-13 5.5856803e-10\n",
      " 1.0569326e-18 5.5686229e-08 1.3366136e-06 6.3644857e-03 1.3693146e-15]\n",
      "12\n"
     ]
    }
   ],
   "source": [
    "# Inference test\n",
    "predict_result = model.predict(np.array([X_test[0]]))\n",
    "print(np.squeeze(predict_result))\n",
    "print(np.argmax(np.squeeze(predict_result)))"
   ]
  },
  {
   "cell_type": "markdown",
   "metadata": {
    "id": "S3U4yNWx9hE4"
   },
   "source": [
    "# Confusion matrix"
   ]
  },
  {
   "cell_type": "code",
   "execution_count": 15,
   "metadata": {
    "colab": {
     "base_uri": "https://localhost:8080/",
     "height": 582
    },
    "id": "AP1V6SCk9hE5",
    "outputId": "08e41a80-7a4a-4619-8125-ecc371368d19"
   },
   "outputs": [
    {
     "data": {
      "image/png": "[encoded data removed]",
      "text/plain": [
       "<Figure size 700x600 with 2 Axes>"
      ]
     },
     "metadata": {},
     "output_type": "display_data"
    },
    {
     "name": "stdout",
     "output_type": "stream",
     "text": [
      "Classification Report\n",
      "              precision    recall  f1-score   support\n",
      "\n",
      "           0       1.00      1.00      1.00        51\n",
      "           1       1.00      1.00      1.00        79\n",
      "           2       1.00      1.00      1.00        73\n",
      "           3       1.00      1.00      1.00        49\n",
      "           4       1.00      1.00      1.00        72\n",
      "           5       1.00      0.98      0.99        65\n",
      "           6       0.99      1.00      0.99        82\n",
      "           7       0.97      1.00      0.99        73\n",
      "           8       0.99      0.98      0.98        84\n",
      "           9       0.81      0.90      0.85       106\n",
      "          10       0.99      1.00      0.99        99\n",
      "          11       1.00      1.00      1.00       150\n",
      "          12       1.00      1.00      1.00        85\n",
      "          13       1.00      0.99      1.00       110\n",
      "          14       1.00      0.99      1.00       106\n",
      "          15       1.00      1.00      1.00       112\n",
      "          16       1.00      0.98      0.99        88\n",
      "          17       1.00      1.00      1.00        55\n",
      "          18       0.99      1.00      0.99        88\n",
      "          19       0.88      0.76      0.82       126\n",
      "          20       0.91      0.97      0.94        88\n",
      "          21       1.00      1.00      1.00        65\n",
      "          22       1.00      1.00      1.00        72\n",
      "          23       0.97      1.00      0.99        77\n",
      "          24       1.00      1.00      1.00        84\n",
      "          25       0.96      0.97      0.97       102\n",
      "          26       0.99      0.99      0.99       101\n",
      "          27       0.98      1.00      0.99        49\n",
      "          28       1.00      1.00      1.00       127\n",
      "          29       1.00      1.00      1.00        63\n",
      "          30       1.00      0.99      0.99        73\n",
      "          31       1.00      0.98      0.99        53\n",
      "          32       1.00      1.00      1.00        39\n",
      "          33       1.00      1.00      1.00        47\n",
      "\n",
      "    accuracy                           0.98      2793\n",
      "   macro avg       0.98      0.98      0.98      2793\n",
      "weighted avg       0.98      0.98      0.98      2793\n",
      "\n"
     ]
    }
   ],
   "source": [
    "import pandas as pd\n",
    "import seaborn as sns\n",
    "import matplotlib.pyplot as plt\n",
    "from sklearn.metrics import confusion_matrix, classification_report\n",
    "\n",
    "def print_confusion_matrix(y_true, y_pred, report=True):\n",
    "    labels = sorted(list(set(y_true)))\n",
    "    cmx_data = confusion_matrix(y_true, y_pred, labels=labels)\n",
    "    \n",
    "    df_cmx = pd.DataFrame(cmx_data, index=labels, columns=labels)\n",
    " \n",
    "    fig, ax = plt.subplots(figsize=(7, 6))\n",
    "    sns.heatmap(df_cmx, annot=True, fmt='g' ,square=False)\n",
    "    ax.set_ylim(len(set(y_true)), 0)\n",
    "    plt.show()\n",
    "    \n",
    "    if report:\n",
    "        print('Classification Report')\n",
    "        print(classification_report(y_test, y_pred))\n",
    "\n",
    "Y_pred = model.predict(X_test)\n",
    "y_pred = np.argmax(Y_pred, axis=1)\n",
    "\n",
    "print_confusion_matrix(y_test, y_pred)"
   ]
  },
  {
   "cell_type": "markdown",
   "metadata": {
    "id": "FNP6aqzc9hE5"
   },
   "source": [
    "# Convert to model for Tensorflow-Lite"
   ]
  },
  {
   "cell_type": "code",
   "execution_count": 16,
   "metadata": {
    "id": "ODjnYyld9hE6"
   },
   "outputs": [],
   "source": [
    "# Save as a model dedicated to inference\n",
    "model.save(model_save_path, include_optimizer=False)"
   ]
  },
  {
   "cell_type": "code",
   "execution_count": 17,
   "metadata": {
    "colab": {
     "base_uri": "https://localhost:8080/"
    },
    "id": "zRfuK8Y59hE6",
    "outputId": "a4ca585c-b5d5-4244-8291-8674063209bb"
   },
   "outputs": [
    {
     "name": "stdout",
     "output_type": "stream",
     "text": [
      "INFO:tensorflow:Assets written to: C:\\Users\\MOBILA~1\\AppData\\Local\\Temp\\tmpsey57ypz\\assets\n"
     ]
    },
    {
     "name": "stderr",
     "output_type": "stream",
     "text": [
      "WARNING:absl:Buffer deduplication procedure will be skipped when flatbuffer library is not properly loaded\n"
     ]
    },
    {
     "data": {
      "text/plain": [
       "18784"
      ]
     },
     "execution_count": 17,
     "metadata": {},
     "output_type": "execute_result"
    }
   ],
   "source": [
    "# Transform model (quantization)\n",
    "\n",
    "converter = tf.lite.TFLiteConverter.from_keras_model(model)\n",
    "converter.optimizations = [tf.lite.Optimize.DEFAULT]\n",
    "tflite_quantized_model = converter.convert()\n",
    "\n",
    "open(tflite_save_path, 'wb').write(tflite_quantized_model)"
   ]
  },
  {
   "cell_type": "markdown",
   "metadata": {
    "id": "CHBPBXdx9hE6"
   },
   "source": [
    "# Inference test"
   ]
  },
  {
   "cell_type": "code",
   "execution_count": 18,
   "metadata": {
    "id": "mGAzLocO9hE7"
   },
   "outputs": [],
   "source": [
    "interpreter = tf.lite.Interpreter(model_path=tflite_save_path)\n",
    "interpreter.allocate_tensors()"
   ]
  },
  {
   "cell_type": "code",
   "execution_count": 19,
   "metadata": {
    "id": "oQuDK8YS9hE7"
   },
   "outputs": [],
   "source": [
    "# Get I / O tensor\n",
    "input_details = interpreter.get_input_details()\n",
    "output_details = interpreter.get_output_details()"
   ]
  },
  {
   "cell_type": "code",
   "execution_count": 20,
   "metadata": {
    "id": "2_ixAf_l9hE7"
   },
   "outputs": [],
   "source": [
    "interpreter.set_tensor(input_details[0]['index'], np.array([X_test[0]]))"
   ]
  },
  {
   "cell_type": "code",
   "execution_count": 21,
   "metadata": {
    "colab": {
     "base_uri": "https://localhost:8080/"
    },
    "id": "s4FoAnuc9hE7",
    "outputId": "91f18257-8d8b-4ef3-c558-e9b5f94fabbf",
    "scrolled": true
   },
   "outputs": [
    {
     "name": "stdout",
     "output_type": "stream",
     "text": [
      "CPU times: total: 0 ns\n",
      "Wall time: 0 ns\n"
     ]
    }
   ],
   "source": [
    "%%time\n",
    "# Inference implementation\n",
    "interpreter.invoke()\n",
    "tflite_results = interpreter.get_tensor(output_details[0]['index'])"
   ]
  },
  {
   "cell_type": "code",
   "execution_count": 22,
   "metadata": {
    "colab": {
     "base_uri": "https://localhost:8080/"
    },
    "id": "vONjp19J9hE8",
    "outputId": "77205e24-fd00-42c4-f7b6-e06e527c2cba"
   },
   "outputs": [
    {
     "name": "stdout",
     "output_type": "stream",
     "text": [
      "[2.15953735e-27 1.34986275e-28 4.23464032e-20 3.44066464e-12\n",
      " 5.89733718e-05 4.11935116e-06 8.28614860e-14 3.85813817e-14\n",
      " 2.92414014e-04 2.12916803e-17 1.37038922e-11 3.37459937e-06\n",
      " 9.92905855e-01 3.61876655e-19 5.83064841e-09 3.01731817e-12\n",
      " 1.76356267e-22 2.39511255e-09 3.28052472e-13 1.81338546e-13\n",
      " 1.52425017e-10 4.92079511e-12 1.28644838e-11 5.29938303e-14\n",
      " 3.43498341e-21 1.14572686e-06 1.09931314e-07 1.35750761e-17\n",
      " 1.24043896e-13 5.08941167e-10 1.18071905e-18 5.62405624e-08\n",
      " 1.63668267e-06 6.73220912e-03 1.49381820e-15]\n",
      "12\n"
     ]
    }
   ],
   "source": [
    "print(np.squeeze(tflite_results))\n",
    "print(np.argmax(np.squeeze(tflite_results)))"
   ]
  },
  {
   "cell_type": "code",
   "execution_count": null,
   "metadata": {},
   "outputs": [],
   "source": []
  }
 ],
 "metadata": {
  "accelerator": "GPU",
  "colab": {
   "collapsed_sections": [],
   "name": "keypoint_classification_EN.ipynb",
   "provenance": [],
   "toc_visible": true
  },
  "kernelspec": {
   "display_name": "Python 3 (ipykernel)",
   "language": "python",
   "name": "python3"
  },
  "language_info": {
   "codemirror_mode": {
    "name": "ipython",
    "version": 3
   },
   "file_extension": ".py",
   "mimetype": "text/x-python",
   "name": "python",
   "nbconvert_exporter": "python",
   "pygments_lexer": "ipython3",
   "version": "3.9.13"
  }
 },
 "nbformat": 4,
 "nbformat_minor": 1
}
