{
 "cells": [
  {
   "cell_type": "code",
   "execution_count": null,
   "metadata": {
    "colab": {
     "base_uri": "https://localhost:8080/"
    },
    "id": "mz6VsEIy5rrE",
    "outputId": "4a2cffd0-3d89-46fe-8ed3-b8024408da7a"
   },
   "outputs": [
    {
     "name": "stdout",
     "output_type": "stream",
     "text": [
      "Collecting pyspellchecker\n",
      "  Downloading pyspellchecker-0.6.3-py3-none-any.whl (2.7 MB)\n",
      "\u001b[K     |████████████████████████████████| 2.7 MB 8.3 MB/s \n",
      "\u001b[?25hInstalling collected packages: pyspellchecker\n",
      "Successfully installed pyspellchecker-0.6.3\n"
     ]
    }
   ],
   "source": [
    "!pip install pyspellchecker"
   ]
  },
  {
   "cell_type": "code",
   "execution_count": null,
   "metadata": {
    "id": "hxmEdXMc5_1q"
   },
   "outputs": [],
   "source": [
    "from spellchecker import SpellChecker"
   ]
  },
  {
   "cell_type": "code",
   "execution_count": null,
   "metadata": {
    "id": "EyLRskt36MDn"
   },
   "outputs": [],
   "source": [
    "spell = SpellChecker()"
   ]
  },
  {
   "cell_type": "code",
   "execution_count": null,
   "metadata": {
    "id": "XALziO6V6Txj"
   },
   "outputs": [],
   "source": [
    "misspelled = spell.unknown(['Welcomo', 'to', 'AI', 'Sciences'])"
   ]
  },
  {
   "cell_type": "code",
   "execution_count": null,
   "metadata": {
    "id": "iyMQEDB16rZl"
   },
   "outputs": [],
   "source": [
    "all_words = ['Welcomo', 'to', 'AI', 'Sciences']"
   ]
  },
  {
   "cell_type": "code",
   "execution_count": null,
   "metadata": {
    "colab": {
     "base_uri": "https://localhost:8080/"
    },
    "id": "IHPyqh2X63WA",
    "outputId": "769f7674-6a61-48ed-81f4-981a66fb0eda"
   },
   "outputs": [
    {
     "data": {
      "text/plain": [
       "{'welcomo'}"
      ]
     },
     "execution_count": 7,
     "metadata": {},
     "output_type": "execute_result"
    }
   ],
   "source": [
    "misspelled"
   ]
  },
  {
   "cell_type": "code",
   "execution_count": null,
   "metadata": {
    "colab": {
     "base_uri": "https://localhost:8080/"
    },
    "id": "9MNDgxaC6_Ba",
    "outputId": "6f3d0eca-a6bb-451f-f0a4-f8cc184d660c"
   },
   "outputs": [
    {
     "name": "stdout",
     "output_type": "stream",
     "text": [
      "{'welcome'}\n"
     ]
    }
   ],
   "source": [
    "for word in misspelled:\n",
    "  print(spell.candidates(word))"
   ]
  },
  {
   "cell_type": "code",
   "execution_count": null,
   "metadata": {
    "id": "oH23XNV97mr4"
   },
   "outputs": [],
   "source": [
    "while True:\n",
    "  word = input(\"Enter the word:\")\n",
    "  if word in spell:\n",
    "    print(\"'{} is spelled  correctly\".format(word))\n",
    "  else:\n",
    "    correct_word=spell.correction(word)\n"
   ]
  }
 ],
 "metadata": {
  "colab": {
   "collapsed_sections": [],
   "name": "Untitled1.ipynb",
   "provenance": []
  },
  "kernelspec": {
   "display_name": "Python 3 (ipykernel)",
   "language": "python",
   "name": "python3"
  },
  "language_info": {
   "codemirror_mode": {
    "name": "ipython",
    "version": 3
   },
   "file_extension": ".py",
   "mimetype": "text/x-python",
   "name": "python",
   "nbconvert_exporter": "python",
   "pygments_lexer": "ipython3",
   "version": "3.8.13"
  }
 },
 "nbformat": 4,
 "nbformat_minor": 1
}
